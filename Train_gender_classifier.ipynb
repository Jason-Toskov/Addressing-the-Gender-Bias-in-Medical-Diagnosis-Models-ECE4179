{
 "cells": [
  {
   "cell_type": "code",
   "execution_count": 1,
   "id": "36cc300b",
   "metadata": {},
   "outputs": [],
   "source": [
    "%matplotlib inline\n",
    "import numpy as np\n",
    "import pandas as pd\n",
    "import os\n",
    "import matplotlib.pyplot as plt\n",
    "from tqdm import tqdm\n",
    "from PIL import Image\n",
    "import functools\n",
    "import copy\n",
    "\n",
    "import torch\n",
    "import torch.nn as nn\n",
    "import torch.nn.functional as F\n",
    "import torchvision\n",
    "import torchvision.datasets as datasets\n",
    "import torch.utils.data.dataloader as dataloader\n",
    "import torchvision.models as models\n",
    "import torchvision.transforms as T\n",
    "import torch.nn.utils\n",
    "from torch.autograd import Function\n",
    "from torch.utils.data import Dataset\n",
    "from torchvision.io import read_image"
   ]
  },
  {
   "cell_type": "code",
   "execution_count": 2,
   "id": "4e6a4fdd",
   "metadata": {},
   "outputs": [],
   "source": [
    "RUN_TESTS = False\n",
    "RESUME_TRAINING = True\n",
    "\n",
    "DATASET_DIR = './CXR8'\n",
    "SAVE_PATH = './'\n",
    "MODEL_NAME = 'pretrained_gender_classifier.pt'\n",
    "\n",
    "TRAIN_FRACTION = 0.8\n",
    "BATCH_SIZE = 8\n",
    "NUM_EPOCHS = 10\n",
    "REVERSE_GRAD_ALPHA = 5\n",
    "LEARNING_RATE = 1e-4\n",
    "WIEGHT_DECAY = 1e-5\n",
    "\n",
    "L1_SCALE = 0.001"
   ]
  },
  {
   "cell_type": "code",
   "execution_count": 3,
   "id": "97541b56",
   "metadata": {},
   "outputs": [],
   "source": [
    "#Set device to GPU_indx if GPU is avaliable\n",
    "GPU_indx = 0\n",
    "device = torch.device(GPU_indx if torch.cuda.is_available() else 'cpu')\n",
    "#device='cpu'"
   ]
  },
  {
   "cell_type": "code",
   "execution_count": 4,
   "id": "08188297",
   "metadata": {},
   "outputs": [],
   "source": [
    "class lung_dataset(Dataset):\n",
    "    def __init__(self, data_path, transform, train_test = 'train'):\n",
    "        self.im_path = data_path + '/images/images/' #Path to images\n",
    "        self.meta_csv = pd.read_csv(data_path + '/metadata_{}.csv'.format(train_test)) #Path to metadata\n",
    "        self.transform = transform #Predefined transforms\n",
    "\n",
    "        #Get dictionaries to map disease classes to numbers and vice versa\n",
    "        self.label_to_dis_class = self.meta_csv['Finding Labels'].drop_duplicates().reset_index().to_dict()['Finding Labels']\n",
    "        self.dis_class_to_label = dict((v,k) for k,v in self.label_to_dis_class.items())\n",
    "        \n",
    "        #Get dict to map genders to numbers and vice versa\n",
    "        self.label_to_gender = self.meta_csv['Patient Gender'].drop_duplicates().reset_index().to_dict()['Patient Gender']\n",
    "        self.gender_to_label = dict((v,k) for k,v in self.label_to_gender.items())\n",
    "\n",
    "    def __len__(self):\n",
    "        return len(self.meta_csv)\n",
    "        #return 500\n",
    "\n",
    "    def __getitem__(self, idx):\n",
    "        im_data = self.meta_csv.iloc[idx]\n",
    "\n",
    "        im = Image.open(self.im_path + im_data['Image Index']).convert(\"L\")\n",
    "        im = self.transform(im)\n",
    "\n",
    "        label_dis = self.dis_class_to_label[im_data['Finding Labels']]\n",
    "        \n",
    "        label_gen = self.gender_to_label[im_data['Patient Gender']]\n",
    "\n",
    "        return im, label_dis, label_gen"
   ]
  },
  {
   "cell_type": "code",
   "execution_count": 5,
   "id": "5aeac4fa",
   "metadata": {},
   "outputs": [
    {
     "name": "stdout",
     "output_type": "stream",
     "text": [
      "500\n",
      "400\n",
      "100\n"
     ]
    }
   ],
   "source": [
    "#train_transform = T.Compose([T.ToTensor()])\n",
    "train_transform = T.Compose([\n",
    "        T.Resize(256),\n",
    "        T.RandomCrop(224),\n",
    "        #T.RandomHorizontalFlip(),\n",
    "        T.ToTensor(),\n",
    "        #normalize\n",
    "])\n",
    "\n",
    "#Dataset train_test can be: 'train' or 'test'\n",
    "#Val data comes from splitting train set\n",
    "dataset = lung_dataset(DATASET_DIR, train_transform, 'train')\n",
    "\n",
    "train_size = int(TRAIN_FRACTION * len(dataset))\n",
    "val_size = len(dataset) - train_size\n",
    "\n",
    "train_dataset, val_dataset = torch.utils.data.random_split(dataset, [train_size, val_size], generator=torch.Generator().manual_seed(42))\n",
    "\n",
    "train_loader = dataloader.DataLoader(train_dataset, shuffle = True, batch_size = BATCH_SIZE)\n",
    "val_loader = dataloader.DataLoader(val_dataset, shuffle = False, batch_size = BATCH_SIZE)\n",
    "\n",
    "print(len(dataset))\n",
    "print(len(train_dataset))\n",
    "print(len(val_dataset))"
   ]
  },
  {
   "cell_type": "code",
   "execution_count": 6,
   "id": "d1b6ea53",
   "metadata": {},
   "outputs": [],
   "source": [
    "if RUN_TESTS:\n",
    "    dataiter = iter(train_loader)\n",
    "\n",
    "    images, dis_labels, gen_labels = dataiter.next()\n",
    "\n",
    "    plt.imshow(images[0].permute(1, 2, 0)/255, cmap='gray')\n",
    "    print(\"Disease Label:\", dis_labels[0].item(), \" Class: \", dataset.label_to_dis_class[dis_labels[0].item()])\n",
    "    print(\"Disease Label:\", gen_labels[0].item(), \" Class: \", dataset.label_to_gender[gen_labels[0].item()])\n"
   ]
  },
  {
   "cell_type": "code",
   "execution_count": 7,
   "id": "ae2c4ce5",
   "metadata": {},
   "outputs": [],
   "source": [
    "def get_norm_layer(norm_type='instance'):\n",
    "    if norm_type == 'batch':\n",
    "        norm_layer = functools.partial(nn.BatchNorm2d, affine=True)\n",
    "    elif norm_type == 'instance':\n",
    "        norm_layer = functools.partial(nn.InstanceNorm2d, affine=False, track_running_stats=False)\n",
    "    elif norm_type == 'none':\n",
    "        norm_layer = None\n",
    "    else:\n",
    "        raise NotImplementedError('normalization layer [%s] is not found' % norm_type)\n",
    "    return norm_layer"
   ]
  },
  {
   "cell_type": "code",
   "execution_count": 8,
   "id": "4e773567",
   "metadata": {},
   "outputs": [],
   "source": [
    "class ReverseLayerF(Function):\n",
    "\n",
    "    @staticmethod\n",
    "    def forward(ctx, x, alpha):\n",
    "        ctx.alpha = alpha\n",
    "\n",
    "        return x.view_as(x)\n",
    "\n",
    "    @staticmethod\n",
    "    def backward(ctx, grad_output):\n",
    "        return grad_output.neg() * ctx.alpha, None"
   ]
  },
  {
   "cell_type": "code",
   "execution_count": 9,
   "id": "cbf45239",
   "metadata": {},
   "outputs": [],
   "source": [
    "class GenderClassification(nn.Module):\n",
    "\n",
    "    def __init__(self):\n",
    "\n",
    "        super(GenderClassification, self).__init__()\n",
    "        print(\"Build a GenderClassification Model\")\n",
    "\n",
    "        self.base_network = models.resnet18(pretrained = False)\n",
    "        print('Load weights from Resnet18 done')\n",
    "\n",
    "        self.finalLayer = nn.Linear(self.base_network.fc.in_features, 2)\n",
    "\n",
    "    def forward(self, image):\n",
    "        x = self.base_network.conv1(image)\n",
    "        x = self.base_network.bn1(x)\n",
    "        x = self.base_network.relu(x)\n",
    "        x = self.base_network.maxpool(x)\n",
    "\n",
    "        x = self.base_network.layer1(x)\n",
    "        x = self.base_network.layer2(x)\n",
    "        x = self.base_network.layer3(x)\n",
    "        x = self.base_network.layer4(x)\n",
    "\n",
    "        x = self.base_network.avgpool(x)\n",
    "        image_features = x.view(x.size(0), -1)\n",
    "\n",
    "        preds = self.finalLayer(image_features)\n",
    "\n",
    "        return preds"
   ]
  },
  {
   "cell_type": "code",
   "execution_count": 10,
   "id": "bf30d50b",
   "metadata": {},
   "outputs": [],
   "source": [
    "class ResultLog():\n",
    "    def __init__(self):\n",
    "        self.l1_loss_log = []\n",
    "        self.task_loss_log = []\n",
    "        self.adv_loss_log = []\n",
    "        self.total_loss_log = []\n",
    "\n",
    "        self.task_acc_log = []\n",
    "        self.gender_acc_log = []\n",
    "        \n",
    "        self.input_images = []\n",
    "        self.output_images = []\n",
    "        self.task_labels = []\n",
    "        self.gender_labels = []\n",
    "        self.task_preds = []\n",
    "        self.gender_preds = []\n",
    "        \n",
    "    def log_losses(self, l1_loss, task_loss, adv_loss, total_loss):\n",
    "        self.l1_loss_log.append(l1_loss)\n",
    "        self.task_loss_log.append(task_loss)\n",
    "        self.adv_loss_log.append(adv_loss)\n",
    "        self.total_loss_log.append(total_loss)\n",
    "        \n",
    "    def log_accs(self, task_acc, gender_acc):\n",
    "        self.task_acc_log.append(task_acc)\n",
    "        self.gender_acc_log.append(gender_acc)\n",
    "        \n",
    "    def log_model_results(self, images, model_ae_im, task_lab, gen_lab, model_preds, model_adv_preds):\n",
    "        self.input_images.append(images)\n",
    "        self.output_images.append(model_ae_im)\n",
    "        self.task_labels.append(task_lab)\n",
    "        self.gender_labels.append(gen_lab)\n",
    "        self.task_preds.append(model_preds)\n",
    "        self.gender_preds.append(model_adv_preds)"
   ]
  },
  {
   "cell_type": "code",
   "execution_count": 11,
   "id": "650085ee",
   "metadata": {},
   "outputs": [],
   "source": [
    "def train(model, dataloader, criterion_class, optimizer, logger):\n",
    "\n",
    "    model.train()\n",
    "\n",
    "    correct_pred_gender = 0\n",
    "    total_predictions = 0\n",
    "    \n",
    "    for im, label_dis, label_gen in dataloader:\n",
    "        \n",
    "        #Model expects a 3 channel input, so give the same image 3 times\n",
    "        im = torch.cat((im, im, im), axis=1)\n",
    "        images, targets, genders = im.to(device), label_dis.to(device), label_gen.to(device)\n",
    "        model_preds = model(images)\n",
    "        \n",
    "        adv_loss = criterion_class(model_preds, genders)\n",
    "        \n",
    "        loss = adv_loss\n",
    "        \n",
    "        logger.log_losses(0, 0, adv_loss.item(), 0)\n",
    "        \n",
    "        #Accuracies       \n",
    "        _, pred_gender = torch.max(model_preds, 1)\n",
    "        correct_pred_gender += (pred_gender == genders).sum().item()\n",
    "        \n",
    "        total_predictions += targets.shape[0]      \n",
    "        \n",
    "        optimizer.zero_grad()\n",
    "        loss.backward()\n",
    "        optimizer.step()\n",
    "        \n",
    "    logger.log_accs(0, correct_pred_gender/total_predictions)\n",
    "    logger.log_model_results(0, \n",
    "                             0,\n",
    "                             0,\n",
    "                             label_gen,\n",
    "                             0, \n",
    "                             pred_gender.detach().cpu()\n",
    "                            )"
   ]
  },
  {
   "cell_type": "code",
   "execution_count": 12,
   "id": "3944e8c7",
   "metadata": {},
   "outputs": [],
   "source": [
    "def eval(model, dataloader, criterion_class, logger, best_model, best_acc):\n",
    "\n",
    "    model.eval()\n",
    "\n",
    "    correct_pred_gender = 0\n",
    "    total_predictions = 0\n",
    "    \n",
    "    with torch.no_grad():\n",
    "        for im, label_dis, label_gen in dataloader:\n",
    "\n",
    "            #Model expects a 3 channel input, so give the same image 3 times\n",
    "            im = torch.cat((im, im, im), axis=1)\n",
    "            images, targets, genders = im.to(device), label_dis.to(device), label_gen.to(device)\n",
    "            model_preds = model(images)\n",
    "\n",
    "            adv_loss = criterion_class(model_preds, genders)\n",
    "\n",
    "            loss = adv_loss\n",
    "\n",
    "            logger.log_losses(0, 0, adv_loss.item(), 0)\n",
    "\n",
    "            #Accuracies       \n",
    "            _, pred_gender = torch.max(model_preds, 1)\n",
    "            correct_pred_gender += (pred_gender == genders).sum().item()\n",
    "\n",
    "            total_predictions += targets.shape[0]\n",
    "    \n",
    "    acc = correct_pred_gender/total_predictions\n",
    "    logger.log_accs(0, acc)\n",
    "    logger.log_model_results(0, \n",
    "                             0,\n",
    "                             0,\n",
    "                             label_gen,\n",
    "                             0, \n",
    "                             pred_gender.detach().cpu()\n",
    "                            )\n",
    "    \n",
    "    if acc > best_acc:\n",
    "        best_acc = acc\n",
    "        best_model = copy.deepcopy(model)\n",
    "        \n",
    "    return best_model, best_acc"
   ]
  },
  {
   "cell_type": "code",
   "execution_count": 13,
   "id": "c155f318",
   "metadata": {},
   "outputs": [],
   "source": [
    "train_logger = ResultLog()\n",
    "val_logger = ResultLog()"
   ]
  },
  {
   "cell_type": "code",
   "execution_count": 14,
   "id": "d8f0931d",
   "metadata": {},
   "outputs": [
    {
     "name": "stdout",
     "output_type": "stream",
     "text": [
      "Build a GenderClassification Model\n",
      "Load weights from Resnet18 done\n"
     ]
    }
   ],
   "source": [
    "criterion = nn.CrossEntropyLoss()\n",
    "\n",
    "model = GenderClassification().to(device)\n",
    "best_acc = 0\n",
    "best_model = copy.deepcopy(model)\n",
    "if RESUME_TRAINING:\n",
    "    model.load_state_dict(torch.load(SAVE_PATH + MODEL_NAME))\n",
    "    best_model, best_acc = eval(model, val_loader, criterion, val_logger, best_model, best_acc)\n",
    "    \n",
    "optimizer = torch.optim.Adam(model.parameters(), lr=LEARNING_RATE, weight_decay = WIEGHT_DECAY)"
   ]
  },
  {
   "cell_type": "code",
   "execution_count": 15,
   "id": "af3263ef",
   "metadata": {},
   "outputs": [
    {
     "name": "stderr",
     "output_type": "stream",
     "text": [
      "100%|██████████| 10/10 [01:17<00:00,  7.73s/it]\n"
     ]
    }
   ],
   "source": [
    "for i in tqdm(range(NUM_EPOCHS)):\n",
    "    train(model, train_loader, criterion, optimizer, train_logger)\n",
    "    best_model, best_acc = eval(model, val_loader, criterion, val_logger, best_model, best_acc)\n",
    "    "
   ]
  },
  {
   "cell_type": "code",
   "execution_count": 16,
   "id": "70ab2c9e",
   "metadata": {},
   "outputs": [],
   "source": [
    "torch.save(best_model.state_dict(), './pretrained_gender_classifier.pt')"
   ]
  },
  {
   "cell_type": "code",
   "execution_count": 17,
   "id": "57a4ff29",
   "metadata": {},
   "outputs": [],
   "source": [
    "def plot_loss(loss_loggers, loss_labels, title):\n",
    "    \n",
    "    for i, loss in enumerate(loss_loggers):\n",
    "        plt.plot(loss, label=loss_labels[i])\n",
    "        \n",
    "    plt.xlabel(\"Iteration\")\n",
    "    plt.ylabel(\"Loss\")\n",
    "    plt.title(title)\n",
    "    if len(loss_labels) > 1:\n",
    "        plt.legend()\n",
    "    plt.show()"
   ]
  },
  {
   "cell_type": "code",
   "execution_count": 18,
   "id": "ba370476",
   "metadata": {},
   "outputs": [],
   "source": [
    "def plot_accs(acc_loggers, acc_labels, title):\n",
    "    \n",
    "    for i, acc in enumerate(acc_loggers):\n",
    "        plt.plot(acc, label=acc_labels[i])\n",
    "        \n",
    "    plt.xlabel(\"Epoch\")\n",
    "    plt.ylabel(\"Accuracy\")\n",
    "    plt.title(title)\n",
    "    if len(acc_labels):\n",
    "        plt.legend()\n",
    "    plt.show()"
   ]
  },
  {
   "cell_type": "code",
   "execution_count": 19,
   "id": "90cf6afe",
   "metadata": {},
   "outputs": [
    {
     "data": {
      "image/png": "[encoded data removed]",
      "text/plain": [
       "<Figure size 432x288 with 1 Axes>"
      ]
     },
     "metadata": {
      "needs_background": "light"
     },
     "output_type": "display_data"
    },
    {
     "data": {
      "image/png": "[encoded data removed]",
      "text/plain": [
       "<Figure size 432x288 with 1 Axes>"
      ]
     },
     "metadata": {
      "needs_background": "light"
     },
     "output_type": "display_data"
    }
   ],
   "source": [
    "plot_loss([train_logger.adv_loss_log], [''], 'Train gender loss')\n",
    "plot_loss([val_logger.adv_loss_log], [''], 'Val gender loss')"
   ]
  },
  {
   "cell_type": "code",
   "execution_count": 20,
   "id": "23aa7055",
   "metadata": {},
   "outputs": [
    {
     "data": {
      "image/png": "[encoded data removed]",
      "text/plain": [
       "<Figure size 432x288 with 1 Axes>"
      ]
     },
     "metadata": {
      "needs_background": "light"
     },
     "output_type": "display_data"
    }
   ],
   "source": [
    "plot_accs([train_logger.gender_acc_log, val_logger.gender_acc_log], ['train', 'validation'], 'Gender Accuracy')"
   ]
  },
  {
   "cell_type": "code",
   "execution_count": null,
   "id": "ae5902c2",
   "metadata": {},
   "outputs": [],
   "source": []
  }
 ],
 "metadata": {
  "kernelspec": {
   "display_name": "Python 3",
   "language": "python",
   "name": "python3"
  },
  "language_info": {
   "codemirror_mode": {
    "name": "ipython",
    "version": 3
   },
   "file_extension": ".py",
   "mimetype": "text/x-python",
   "name": "python",
   "nbconvert_exporter": "python",
   "pygments_lexer": "ipython3",
   "version": "3.8.8"
  }
 },
 "nbformat": 4,
 "nbformat_minor": 5
}
