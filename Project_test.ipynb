{
 "cells": [
  {
   "cell_type": "code",
   "execution_count": 1,
   "source": [
    "import numpy as np\r\n",
    "import pandas as pd\r\n",
    "import os\r\n",
    "import matplotlib.pyplot as plt\r\n",
    "from tqdm import tqdm"
   ],
   "outputs": [],
   "metadata": {}
  },
  {
   "cell_type": "code",
   "execution_count": 2,
   "source": [
    "meta = pd.read_csv('./CXR8/Data_Entry_2017_v2020.csv')\r\n",
    "meta_culled = meta[~meta['Finding Labels'].str.contains('\\|').values]\r\n",
    "classes = meta_culled['Finding Labels'].drop_duplicates()\r\n",
    "\r\n",
    "print(len(meta_culled))\r\n",
    "print(classes)\r\n"
   ],
   "outputs": [
    {
     "output_type": "stream",
     "name": "stdout",
     "text": [
      "91324\n",
      "0            Cardiomegaly\n",
      "3              No Finding\n",
      "4                  Hernia\n",
      "19           Infiltration\n",
      "25                 Nodule\n",
      "26              Emphysema\n",
      "28               Effusion\n",
      "34            Atelectasis\n",
      "40                   Mass\n",
      "49           Pneumothorax\n",
      "66     Pleural_Thickening\n",
      "99               Fibrosis\n",
      "130         Consolidation\n",
      "138                 Edema\n",
      "279             Pneumonia\n",
      "Name: Finding Labels, dtype: object\n"
     ]
    }
   ],
   "metadata": {}
  },
  {
   "cell_type": "code",
   "execution_count": 3,
   "source": [
    "print('There are {} images in the dataset'.format(len(meta_culled)))\r\n",
    "print('')\r\n",
    "\r\n",
    "count = 0\r\n",
    "for c in classes:\r\n",
    "    length = len(meta_culled.loc[meta_culled['Finding Labels'] == c ])\r\n",
    "    print(\"    There are {} images with class: {}\".format(length, c))\r\n",
    "    count += length\r\n",
    "print('')\r\n",
    "print(count)"
   ],
   "outputs": [
    {
     "output_type": "stream",
     "name": "stdout",
     "text": [
      "There are 91324 images in the dataset\n",
      "\n",
      "    There are 1093 images with class: Cardiomegaly\n",
      "    There are 60361 images with class: No Finding\n",
      "    There are 110 images with class: Hernia\n",
      "    There are 9547 images with class: Infiltration\n",
      "    There are 2705 images with class: Nodule\n",
      "    There are 892 images with class: Emphysema\n",
      "    There are 3955 images with class: Effusion\n",
      "    There are 4215 images with class: Atelectasis\n",
      "    There are 2139 images with class: Mass\n",
      "    There are 2194 images with class: Pneumothorax\n",
      "    There are 1126 images with class: Pleural_Thickening\n",
      "    There are 727 images with class: Fibrosis\n",
      "    There are 1310 images with class: Consolidation\n",
      "    There are 628 images with class: Edema\n",
      "    There are 322 images with class: Pneumonia\n",
      "\n",
      "91324\n"
     ]
    }
   ],
   "metadata": {}
  },
  {
   "cell_type": "code",
   "execution_count": 4,
   "source": [
    "meta_culled.to_csv('./CXR8/metadata.csv')"
   ],
   "outputs": [],
   "metadata": {}
  },
  {
   "cell_type": "code",
   "execution_count": 5,
   "source": [
    "with open('./CXR8/train_val_list.txt') as f:\r\n",
    "    lines = f.readlines()\r\n",
    "    #print(lines)\r\n",
    "\r\n",
    "print(len(lines))\r\n",
    "print('')\r\n",
    "\r\n",
    "train_df = meta_culled.iloc[0:0,:].copy()\r\n",
    "print(train_df)\r\n",
    "\r\n",
    "\r\n",
    "with open('./CXR8/train_val_list_new.txt', 'w') as f:\r\n",
    "    count = 0\r\n",
    "    for im in tqdm(lines):\r\n",
    "        #if not meta_culled[meta_culled['Image Index'].str.contains(im.split('\\n')[0]).values].empty:\r\n",
    "        #    count += 1\r\n",
    "        #print(sum(meta_culled['Image Index'].str.contains(im.split('\\n')[0])))\r\n",
    "        if im.split('\\n')[0] in meta_culled.values:\r\n",
    "            count += 1\r\n",
    "            train_df = train_df.append(meta_culled[meta_culled['Image Index'].str.contains(im.split('\\n')[0]).values], ignore_index = True)\r\n",
    "            f.write(im)\r\n",
    "    print(count)\r\n",
    "\r\n",
    "train_df.to_csv('./CXR8/metadata_train.csv')\r\n",
    "\r\n"
   ],
   "outputs": [
    {
     "output_type": "stream",
     "name": "stdout",
     "text": [
      "86524\n",
      "\n",
      "Empty DataFrame\n",
      "Columns: [Image Index, Finding Labels, Follow-up #, Patient ID, Patient Age, Patient Gender, View Position, OriginalImage[Width, Height], OriginalImagePixelSpacing[x, y]]\n",
      "Index: []\n"
     ]
    },
    {
     "output_type": "stream",
     "name": "stderr",
     "text": [
      "100%|██████████| 86524/86524 [1:55:02<00:00, 12.54it/s]\n"
     ]
    },
    {
     "output_type": "stream",
     "name": "stdout",
     "text": [
      "73471\n"
     ]
    }
   ],
   "metadata": {}
  },
  {
   "cell_type": "code",
   "execution_count": 6,
   "source": [
    "with open('./CXR8/test_list.txt') as f:\r\n",
    "    lines = f.readlines()\r\n",
    "    #print(lines)\r\n",
    "\r\n",
    "print(len(lines))\r\n",
    "print('')\r\n",
    "\r\n",
    "test_df = meta_culled.iloc[0:0,:].copy()\r\n",
    "print(test_df)\r\n",
    "\r\n",
    "\r\n",
    "with open('./CXR8/test_list_new.txt', 'w') as f:\r\n",
    "    count = 0\r\n",
    "    for im in tqdm(lines):\r\n",
    "        #if not meta_culled[meta_culled['Image Index'].str.contains(im.split('\\n')[0]).values].empty:\r\n",
    "        #    count += 1\r\n",
    "        #print(sum(meta_culled['Image Index'].str.contains(im.split('\\n')[0])))\r\n",
    "        if im.split('\\n')[0] in meta_culled.values:\r\n",
    "            count += 1\r\n",
    "            test_df = test_df.append(meta_culled[meta_culled['Image Index'].str.contains(im.split('\\n')[0]).values], ignore_index = True)\r\n",
    "            f.write(im)\r\n",
    "    print(count)\r\n",
    "\r\n",
    "test_df.to_csv('./CXR8/metadata_test.csv')\r\n",
    "\r\n"
   ],
   "outputs": [
    {
     "output_type": "stream",
     "name": "stdout",
     "text": [
      "25596\n",
      "\n",
      "Empty DataFrame\n",
      "Columns: [Image Index, Finding Labels, Follow-up #, Patient ID, Patient Age, Patient Gender, View Position, OriginalImage[Width, Height], OriginalImagePixelSpacing[x, y]]\n",
      "Index: []\n"
     ]
    },
    {
     "output_type": "stream",
     "name": "stderr",
     "text": [
      "100%|██████████| 25596/25596 [29:05<00:00, 14.66it/s]\n"
     ]
    },
    {
     "output_type": "stream",
     "name": "stdout",
     "text": [
      "17853\n"
     ]
    }
   ],
   "metadata": {}
  }
 ],
 "metadata": {
  "kernelspec": {
   "name": "python3",
   "display_name": "Python 3.8.8 64-bit (conda)"
  },
  "language_info": {
   "codemirror_mode": {
    "name": "ipython",
    "version": 3
   },
   "file_extension": ".py",
   "mimetype": "text/x-python",
   "name": "python",
   "nbconvert_exporter": "python",
   "pygments_lexer": "ipython3",
   "version": "3.8.8"
  },
  "interpreter": {
   "hash": "2bdb6057f9747008783ed797866ce2c15ddf769f4ead8e3972628a098383416d"
  }
 },
 "nbformat": 4,
 "nbformat_minor": 5
}