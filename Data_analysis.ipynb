{
 "cells": [
  {
   "cell_type": "code",
   "execution_count": 1,
   "id": "8a82353b",
   "metadata": {},
   "outputs": [],
   "source": [
    "import numpy as np\n",
    "import pandas as pd\n",
    "import os\n",
    "import matplotlib.pyplot as plt\n",
    "from tqdm import tqdm"
   ]
  },
  {
   "cell_type": "code",
   "execution_count": 2,
   "id": "6a3daaa1",
   "metadata": {},
   "outputs": [
    {
     "name": "stdout",
     "output_type": "stream",
     "text": [
      "91324\n",
      "0            Cardiomegaly\n",
      "3              No Finding\n",
      "4                  Hernia\n",
      "19           Infiltration\n",
      "25                 Nodule\n",
      "26              Emphysema\n",
      "28               Effusion\n",
      "34            Atelectasis\n",
      "40                   Mass\n",
      "49           Pneumothorax\n",
      "66     Pleural_Thickening\n",
      "99               Fibrosis\n",
      "130         Consolidation\n",
      "138                 Edema\n",
      "279             Pneumonia\n",
      "Name: Finding Labels, dtype: object\n"
     ]
    }
   ],
   "source": [
    "meta = pd.read_csv('./CXR8/Data_Entry_2017_v2020.csv')\n",
    "meta_culled = meta[~meta['Finding Labels'].str.contains('\\|').values]\n",
    "classes = meta_culled['Finding Labels'].drop_duplicates()\n",
    "\n",
    "print(len(meta_culled))\n",
    "print(classes)\n"
   ]
  },
  {
   "cell_type": "code",
   "execution_count": 3,
   "id": "3cafdfef",
   "metadata": {},
   "outputs": [
    {
     "name": "stdout",
     "output_type": "stream",
     "text": [
      "There are 91324 images in the dataset\n",
      "\n",
      "    There are 1093 images with class: Cardiomegaly\n",
      "    There are 60361 images with class: No Finding\n",
      "    There are 110 images with class: Hernia\n",
      "    There are 9547 images with class: Infiltration\n",
      "    There are 2705 images with class: Nodule\n",
      "    There are 892 images with class: Emphysema\n",
      "    There are 3955 images with class: Effusion\n",
      "    There are 4215 images with class: Atelectasis\n",
      "    There are 2139 images with class: Mass\n",
      "    There are 2194 images with class: Pneumothorax\n",
      "    There are 1126 images with class: Pleural_Thickening\n",
      "    There are 727 images with class: Fibrosis\n",
      "    There are 1310 images with class: Consolidation\n",
      "    There are 628 images with class: Edema\n",
      "    There are 322 images with class: Pneumonia\n",
      "\n",
      "91324\n"
     ]
    }
   ],
   "source": [
    "print('There are {} images in the dataset'.format(len(meta_culled)))\n",
    "print('')\n",
    "\n",
    "count = 0\n",
    "for c in classes:\n",
    "    length = len(meta_culled.loc[meta_culled['Finding Labels'] == c ])\n",
    "    print(\"    There are {} images with class: {}\".format(length, c))\n",
    "    count += length\n",
    "print('')\n",
    "print(count)"
   ]
  },
  {
   "cell_type": "code",
   "execution_count": 4,
   "id": "932db5e8",
   "metadata": {},
   "outputs": [],
   "source": [
    "meta_culled.to_csv('./CXR8/metadata.csv')"
   ]
  },
  {
   "cell_type": "code",
   "execution_count": 5,
   "id": "3da2a2bd",
   "metadata": {},
   "outputs": [
    {
     "name": "stdout",
     "output_type": "stream",
     "text": [
      "86524\n",
      "\n",
      "Empty DataFrame\n",
      "Columns: [Image Index, Finding Labels, Follow-up #, Patient ID, Patient Age, Patient Gender, View Position, OriginalImage[Width, Height], OriginalImagePixelSpacing[x, y]]\n",
      "Index: []\n"
     ]
    },
    {
     "name": "stderr",
     "output_type": "stream",
     "text": [
      "100%|██████████| 86524/86524 [1:55:02<00:00, 12.54it/s]\n"
     ]
    },
    {
     "name": "stdout",
     "output_type": "stream",
     "text": [
      "73471\n"
     ]
    }
   ],
   "source": [
    "with open('./CXR8/train_val_list.txt') as f:\n",
    "    lines = f.readlines()\n",
    "    #print(lines)\n",
    "\n",
    "print(len(lines))\n",
    "print('')\n",
    "\n",
    "train_df = meta_culled.iloc[0:0,:].copy()\n",
    "print(train_df)\n",
    "\n",
    "\n",
    "with open('./CXR8/train_val_list_new.txt', 'w') as f:\n",
    "    count = 0\n",
    "    for im in tqdm(lines):\n",
    "        #if not meta_culled[meta_culled['Image Index'].str.contains(im.split('\\n')[0]).values].empty:\n",
    "        #    count += 1\n",
    "        #print(sum(meta_culled['Image Index'].str.contains(im.split('\\n')[0])))\n",
    "        if im.split('\\n')[0] in meta_culled.values:\n",
    "            count += 1\n",
    "            train_df = train_df.append(meta_culled[meta_culled['Image Index'].str.contains(im.split('\\n')[0]).values], ignore_index = True)\n",
    "            f.write(im)\n",
    "    print(count)\n",
    "\n",
    "train_df.to_csv('./CXR8/metadata_train.csv')\n",
    "\n"
   ]
  },
  {
   "cell_type": "code",
   "execution_count": 6,
   "id": "865153f8",
   "metadata": {},
   "outputs": [
    {
     "name": "stdout",
     "output_type": "stream",
     "text": [
      "25596\n",
      "\n",
      "Empty DataFrame\n",
      "Columns: [Image Index, Finding Labels, Follow-up #, Patient ID, Patient Age, Patient Gender, View Position, OriginalImage[Width, Height], OriginalImagePixelSpacing[x, y]]\n",
      "Index: []\n"
     ]
    },
    {
     "name": "stderr",
     "output_type": "stream",
     "text": [
      "100%|██████████| 25596/25596 [29:05<00:00, 14.66it/s]\n"
     ]
    },
    {
     "name": "stdout",
     "output_type": "stream",
     "text": [
      "17853\n"
     ]
    }
   ],
   "source": [
    "with open('./CXR8/test_list.txt') as f:\n",
    "    lines = f.readlines()\n",
    "    #print(lines)\n",
    "\n",
    "print(len(lines))\n",
    "print('')\n",
    "\n",
    "test_df = meta_culled.iloc[0:0,:].copy()\n",
    "print(test_df)\n",
    "\n",
    "\n",
    "with open('./CXR8/test_list_new.txt', 'w') as f:\n",
    "    count = 0\n",
    "    for im in tqdm(lines):\n",
    "        #if not meta_culled[meta_culled['Image Index'].str.contains(im.split('\\n')[0]).values].empty:\n",
    "        #    count += 1\n",
    "        #print(sum(meta_culled['Image Index'].str.contains(im.split('\\n')[0])))\n",
    "        if im.split('\\n')[0] in meta_culled.values:\n",
    "            count += 1\n",
    "            test_df = test_df.append(meta_culled[meta_culled['Image Index'].str.contains(im.split('\\n')[0]).values], ignore_index = True)\n",
    "            f.write(im)\n",
    "    print(count)\n",
    "\n",
    "test_df.to_csv('./CXR8/metadata_test.csv')\n",
    "\n"
   ]
  }
 ],
 "metadata": {
  "interpreter": {
   "hash": "2bdb6057f9747008783ed797866ce2c15ddf769f4ead8e3972628a098383416d"
  },
  "kernelspec": {
   "display_name": "Python 3",
   "language": "python",
   "name": "python3"
  },
  "language_info": {
   "codemirror_mode": {
    "name": "ipython",
    "version": 3
   },
   "file_extension": ".py",
   "mimetype": "text/x-python",
   "name": "python",
   "nbconvert_exporter": "python",
   "pygments_lexer": "ipython3",
   "version": "3.8.8"
  }
 },
 "nbformat": 4,
 "nbformat_minor": 5
}
